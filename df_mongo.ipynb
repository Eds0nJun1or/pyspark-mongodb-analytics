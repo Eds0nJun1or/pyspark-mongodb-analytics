{
 "cells": [
  {
   "cell_type": "markdown",
   "metadata": {},
   "source": [
    "### Configuração do Ambiente e Leitura dos Dados"
   ]
  },
  {
   "cell_type": "code",
   "execution_count": 2,
   "metadata": {},
   "outputs": [],
   "source": [
    "# Importações padrão\n",
    "import os\n",
    "import json\n",
    "\n",
    "# Importações Análise de Dados\n",
    "import pandas as pd\n",
    "import numpy as np\n",
    "\n",
    "# Importações de visualização\n",
    "import matplotlib.pyplot as plt\n",
    "from matplotlib.ticker import FuncFormatter\n",
    "from matplotlib import font_manager\n",
    "import seaborn as sns\n",
    "\n",
    "# Importações Spark\n",
    "from pyspark.sql import SparkSession\n",
    "from pyspark.sql import functions as F\n",
    "from pyspark.sql.window import Window\n",
    "\n",
    "# Importações Machine Learning Spark\n",
    "from pyspark.ml.feature import OneHotEncoder, StringIndexer, VectorAssembler\n",
    "from pyspark.ml import Pipeline\n",
    "from pyspark.ml.clustering import KMeans\n",
    "from pyspark.ml.classification import LogisticRegression\n",
    "\n",
    "# Importações Previsão de Séries Temporais\n",
    "from prophet import Prophet\n",
    "from prophet.plot import plot_plotly, plot_components_plotly\n",
    "\n",
    "# Importações MongoDB\n",
    "from pymongo import MongoClient"
   ]
  },
  {
   "cell_type": "code",
   "execution_count": 42,
   "metadata": {},
   "outputs": [
    {
     "ename": "CollectionInvalid",
     "evalue": "collection spark_collection already exists",
     "output_type": "error",
     "traceback": [
      "\u001b[1;31m---------------------------------------------------------------------------\u001b[0m",
      "\u001b[1;31mCollectionInvalid\u001b[0m                         Traceback (most recent call last)",
      "Cell \u001b[1;32mIn[42], line 16\u001b[0m\n\u001b[0;32m     13\u001b[0m db \u001b[38;5;241m=\u001b[39m client\u001b[38;5;241m.\u001b[39mget_database(\u001b[38;5;124m'\u001b[39m\u001b[38;5;124mSparkDB\u001b[39m\u001b[38;5;124m'\u001b[39m)  \u001b[38;5;66;03m# Substitua 'test' pelo nome do seu banco de dados\u001b[39;00m\n\u001b[0;32m     15\u001b[0m \u001b[38;5;66;03m# Criar a coleção de séries temporais com as opções especificadas\u001b[39;00m\n\u001b[1;32m---> 16\u001b[0m \u001b[43mdb\u001b[49m\u001b[38;5;241;43m.\u001b[39;49m\u001b[43mcreate_collection\u001b[49m\u001b[43m(\u001b[49m\n\u001b[0;32m     17\u001b[0m \u001b[43m    \u001b[49m\u001b[38;5;124;43m'\u001b[39;49m\u001b[38;5;124;43mspark_collection\u001b[39;49m\u001b[38;5;124;43m'\u001b[39;49m\u001b[43m,\u001b[49m\u001b[43m  \u001b[49m\u001b[38;5;66;43;03m# Substitua 'your_collection_name' pelo nome da sua coleção\u001b[39;49;00m\n\u001b[0;32m     18\u001b[0m \u001b[43m    \u001b[49m\u001b[43mtimeseries\u001b[49m\u001b[38;5;241;43m=\u001b[39;49m\u001b[43m{\u001b[49m\n\u001b[0;32m     19\u001b[0m \u001b[43m        \u001b[49m\u001b[38;5;124;43m'\u001b[39;49m\u001b[38;5;124;43mtimeField\u001b[39;49m\u001b[38;5;124;43m'\u001b[39;49m\u001b[43m:\u001b[49m\u001b[43m \u001b[49m\u001b[38;5;124;43m'\u001b[39;49m\u001b[38;5;124;43mtimestamp\u001b[39;49m\u001b[38;5;124;43m'\u001b[39;49m\u001b[43m,\u001b[49m\n\u001b[0;32m     20\u001b[0m \u001b[43m        \u001b[49m\u001b[38;5;124;43m'\u001b[39;49m\u001b[38;5;124;43mmetaField\u001b[39;49m\u001b[38;5;124;43m'\u001b[39;49m\u001b[43m:\u001b[49m\u001b[43m \u001b[49m\u001b[38;5;124;43m'\u001b[39;49m\u001b[38;5;124;43mmetadata\u001b[39;49m\u001b[38;5;124;43m'\u001b[39;49m\u001b[43m,\u001b[49m\n\u001b[0;32m     21\u001b[0m \u001b[43m        \u001b[49m\u001b[38;5;124;43m'\u001b[39;49m\u001b[38;5;124;43mgranularity\u001b[39;49m\u001b[38;5;124;43m'\u001b[39;49m\u001b[43m:\u001b[49m\u001b[43m \u001b[49m\u001b[38;5;124;43m'\u001b[39;49m\u001b[38;5;124;43mseconds\u001b[39;49m\u001b[38;5;124;43m'\u001b[39;49m\n\u001b[0;32m     22\u001b[0m \u001b[43m    \u001b[49m\u001b[43m}\u001b[49m\u001b[43m,\u001b[49m\n\u001b[0;32m     23\u001b[0m \u001b[43m    \u001b[49m\u001b[43mexpireAfterSeconds\u001b[49m\u001b[38;5;241;43m=\u001b[39;49m\u001b[38;5;241;43m86400\u001b[39;49m\n\u001b[0;32m     24\u001b[0m \u001b[43m)\u001b[49m\n\u001b[0;32m     26\u001b[0m \u001b[38;5;66;03m# Selecionar a coleção criada\u001b[39;00m\n\u001b[0;32m     27\u001b[0m collection \u001b[38;5;241m=\u001b[39m db\u001b[38;5;241m.\u001b[39mget_collection(\u001b[38;5;124m'\u001b[39m\u001b[38;5;124mspark_collection\u001b[39m\u001b[38;5;124m'\u001b[39m)\n",
      "File \u001b[1;32mc:\\Users\\BIBOY\\AppData\\Local\\Programs\\Python\\Python312\\Lib\\site-packages\\pymongo\\_csot.py:108\u001b[0m, in \u001b[0;36mapply.<locals>.csot_wrapper\u001b[1;34m(self, *args, **kwargs)\u001b[0m\n\u001b[0;32m    106\u001b[0m         \u001b[38;5;28;01mwith\u001b[39;00m _TimeoutContext(timeout):\n\u001b[0;32m    107\u001b[0m             \u001b[38;5;28;01mreturn\u001b[39;00m func(\u001b[38;5;28mself\u001b[39m, \u001b[38;5;241m*\u001b[39margs, \u001b[38;5;241m*\u001b[39m\u001b[38;5;241m*\u001b[39mkwargs)\n\u001b[1;32m--> 108\u001b[0m \u001b[38;5;28;01mreturn\u001b[39;00m \u001b[43mfunc\u001b[49m\u001b[43m(\u001b[49m\u001b[38;5;28;43mself\u001b[39;49m\u001b[43m,\u001b[49m\u001b[43m \u001b[49m\u001b[38;5;241;43m*\u001b[39;49m\u001b[43margs\u001b[49m\u001b[43m,\u001b[49m\u001b[43m \u001b[49m\u001b[38;5;241;43m*\u001b[39;49m\u001b[38;5;241;43m*\u001b[39;49m\u001b[43mkwargs\u001b[49m\u001b[43m)\u001b[49m\n",
      "File \u001b[1;32mc:\\Users\\BIBOY\\AppData\\Local\\Programs\\Python\\Python312\\Lib\\site-packages\\pymongo\\database.py:461\u001b[0m, in \u001b[0;36mDatabase.create_collection\u001b[1;34m(self, name, codec_options, read_preference, write_concern, read_concern, session, check_exists, **kwargs)\u001b[0m\n\u001b[0;32m    453\u001b[0m \u001b[38;5;28;01mwith\u001b[39;00m \u001b[38;5;28mself\u001b[39m\u001b[38;5;241m.\u001b[39m__client\u001b[38;5;241m.\u001b[39m_tmp_session(session) \u001b[38;5;28;01mas\u001b[39;00m s:\n\u001b[0;32m    454\u001b[0m     \u001b[38;5;66;03m# Skip this check in a transaction where listCollections is not\u001b[39;00m\n\u001b[0;32m    455\u001b[0m     \u001b[38;5;66;03m# supported.\u001b[39;00m\n\u001b[0;32m    456\u001b[0m     \u001b[38;5;28;01mif\u001b[39;00m (\n\u001b[0;32m    457\u001b[0m         check_exists\n\u001b[0;32m    458\u001b[0m         \u001b[38;5;129;01mand\u001b[39;00m (\u001b[38;5;129;01mnot\u001b[39;00m s \u001b[38;5;129;01mor\u001b[39;00m \u001b[38;5;129;01mnot\u001b[39;00m s\u001b[38;5;241m.\u001b[39min_transaction)\n\u001b[0;32m    459\u001b[0m         \u001b[38;5;129;01mand\u001b[39;00m name \u001b[38;5;129;01min\u001b[39;00m \u001b[38;5;28mself\u001b[39m\u001b[38;5;241m.\u001b[39mlist_collection_names(\u001b[38;5;28mfilter\u001b[39m\u001b[38;5;241m=\u001b[39m{\u001b[38;5;124m\"\u001b[39m\u001b[38;5;124mname\u001b[39m\u001b[38;5;124m\"\u001b[39m: name}, session\u001b[38;5;241m=\u001b[39ms)\n\u001b[0;32m    460\u001b[0m     ):\n\u001b[1;32m--> 461\u001b[0m         \u001b[38;5;28;01mraise\u001b[39;00m CollectionInvalid(\u001b[38;5;124m\"\u001b[39m\u001b[38;5;124mcollection \u001b[39m\u001b[38;5;132;01m%s\u001b[39;00m\u001b[38;5;124m already exists\u001b[39m\u001b[38;5;124m\"\u001b[39m \u001b[38;5;241m%\u001b[39m name)\n\u001b[0;32m    462\u001b[0m     \u001b[38;5;28;01mreturn\u001b[39;00m Collection(\n\u001b[0;32m    463\u001b[0m         \u001b[38;5;28mself\u001b[39m,\n\u001b[0;32m    464\u001b[0m         name,\n\u001b[1;32m   (...)\u001b[0m\n\u001b[0;32m    471\u001b[0m         \u001b[38;5;241m*\u001b[39m\u001b[38;5;241m*\u001b[39mkwargs,\n\u001b[0;32m    472\u001b[0m     )\n",
      "\u001b[1;31mCollectionInvalid\u001b[0m: collection spark_collection already exists"
     ]
    }
   ],
   "source": [
    "# Configurar sessão Spark\n",
    "spark = SparkSession.builder \\\n",
    "    .appName(\"Integracao PySpark MongoDB\") \\\n",
    "    .getOrCreate()\n",
    "\n",
    "# Obter URI do MongoDB das variáveis de ambiente\n",
    "mongo_uri = os.getenv(\"MONGO_URI\")\n",
    "\n",
    "# Configurar cliente MongoDB\n",
    "client = MongoClient(mongo_uri)\n",
    "\n",
    "# Selecionar banco de dados\n",
    "db = client.get_database('SparkDB')  # Substitua 'test' pelo nome do seu banco de dados\n",
    "\n",
    "# Criar a coleção de séries temporais com as opções especificadas\n",
    "db.create_collection(\n",
    "    'spark_collection',  # Substitua 'your_collection_name' pelo nome da sua coleção\n",
    "    timeseries={\n",
    "        'timeField': 'timestamp',\n",
    "        'metaField': 'metadata',\n",
    "        'granularity': 'seconds'\n",
    "    },\n",
    "    expireAfterSeconds=86400\n",
    ")\n",
    "\n",
    "# Selecionar a coleção criada\n",
    "collection = db.get_collection('spark_collection')"
   ]
  },
  {
   "cell_type": "code",
   "execution_count": 43,
   "metadata": {},
   "outputs": [],
   "source": [
    "# Lê o arquivo CSV\n",
    "df = (\n",
    "    spark\n",
    "    .read \n",
    "    .option('delimiter', ';')\n",
    "    .option('header', 'true')\n",
    "    .option('inferSchema', 'true')\n",
    "    .option('encoding', 'ISO-8859-1')\n",
    "    .csv('./src/Preços semestrais - AUTOMOTIVOS_2023.02.csv')\n",
    ")"
   ]
  },
  {
   "cell_type": "code",
   "execution_count": 44,
   "metadata": {},
   "outputs": [
    {
     "name": "stdout",
     "output_type": "stream",
     "text": [
      "root\n",
      " |-- Regiao - Sigla: string (nullable = true)\n",
      " |-- Estado - Sigla: string (nullable = true)\n",
      " |-- Municipio: string (nullable = true)\n",
      " |-- Revenda: string (nullable = true)\n",
      " |-- CNPJ da Revenda: string (nullable = true)\n",
      " |-- Nome da Rua: string (nullable = true)\n",
      " |-- Numero Rua: string (nullable = true)\n",
      " |-- Complemento: string (nullable = true)\n",
      " |-- Bairro: string (nullable = true)\n",
      " |-- Cep: string (nullable = true)\n",
      " |-- Produto: string (nullable = true)\n",
      " |-- Data da Coleta: string (nullable = true)\n",
      " |-- Valor de Venda: string (nullable = true)\n",
      " |-- Valor de Compra: string (nullable = true)\n",
      " |-- Unidade de Medida: string (nullable = true)\n",
      " |-- Bandeira: string (nullable = true)\n",
      "\n"
     ]
    }
   ],
   "source": [
    "# Exibe o esquema do dataframe\n",
    "df.printSchema()"
   ]
  },
  {
   "cell_type": "markdown",
   "metadata": {},
   "source": [
    "### Tratamento e Exploração de Dados"
   ]
  },
  {
   "cell_type": "code",
   "execution_count": 45,
   "metadata": {},
   "outputs": [],
   "source": [
    "# Seleciona as colunas relevantes\n",
    "df_precos = (\n",
    "    df\n",
    "    .select('Estado - Sigla', 'Produto', 'Valor de Compra', 'Valor de Venda', 'Unidade de Medida', 'Data da Coleta')\n",
    ")"
   ]
  },
  {
   "cell_type": "code",
   "execution_count": 46,
   "metadata": {},
   "outputs": [
    {
     "name": "stdout",
     "output_type": "stream",
     "text": [
      "+--------------+----------+---------------+--------------+-----------------+--------------+\n",
      "|Estado - Sigla|   Produto|Valor de Compra|Valor de Venda|Unidade de Medida|Data da Coleta|\n",
      "+--------------+----------+---------------+--------------+-----------------+--------------+\n",
      "|            SP|  GASOLINA|           NULL|          4,87|       R$ / litro|    03/07/2023|\n",
      "|            SP|DIESEL S10|           NULL|          4,88|       R$ / litro|    03/07/2023|\n",
      "|            SP|    ETANOL|           NULL|          3,27|       R$ / litro|    03/07/2023|\n",
      "|            AC|  GASOLINA|           NULL|          6,95|       R$ / litro|    03/07/2023|\n",
      "|            AC|DIESEL S10|           NULL|          6,85|       R$ / litro|    03/07/2023|\n",
      "+--------------+----------+---------------+--------------+-----------------+--------------+\n",
      "only showing top 5 rows\n",
      "\n"
     ]
    }
   ],
   "source": [
    "# Verificando registros iniciais\n",
    "df_precos.show(5)"
   ]
  },
  {
   "cell_type": "code",
   "execution_count": 47,
   "metadata": {},
   "outputs": [
    {
     "name": "stdout",
     "output_type": "stream",
     "text": [
      "+--------------+-------+---------------+--------------+-----------------+--------------+\n",
      "|Estado - Sigla|Produto|Valor de Compra|Valor de Venda|Unidade de Medida|Data da Coleta|\n",
      "+--------------+-------+---------------+--------------+-----------------+--------------+\n",
      "+--------------+-------+---------------+--------------+-----------------+--------------+\n",
      "\n"
     ]
    }
   ],
   "source": [
    "# Filtra e mostra as linhas onde o valor da coluna 'Valor de Compra' não é nulo\n",
    "(\n",
    "    df_precos\n",
    "    .where(\n",
    "        F.col('Valor de Compra').isNotNull()\n",
    "    )\n",
    "    .show()\n",
    ")"
   ]
  },
  {
   "cell_type": "code",
   "execution_count": 48,
   "metadata": {},
   "outputs": [
    {
     "name": "stdout",
     "output_type": "stream",
     "text": [
      "\n",
      "Valores nulos por coluna:\n",
      "+--------------+--------------+---------+-------+---------------+-----------+----------+-----------+------+---+-------+--------------+--------------+---------------+-----------------+--------+\n",
      "|Regiao - Sigla|Estado - Sigla|Municipio|Revenda|CNPJ da Revenda|Nome da Rua|Numero Rua|Complemento|Bairro|Cep|Produto|Data da Coleta|Valor de Venda|Valor de Compra|Unidade de Medida|Bandeira|\n",
      "+--------------+--------------+---------+-------+---------------+-----------+----------+-----------+------+---+-------+--------------+--------------+---------------+-----------------+--------+\n",
      "|             0|             0|        0|      0|              0|          0|       140|     362579|   854|  0|      0|             0|             0|         472424|                0|       0|\n",
      "+--------------+--------------+---------+-------+---------------+-----------+----------+-----------+------+---+-------+--------------+--------------+---------------+-----------------+--------+\n",
      "\n"
     ]
    }
   ],
   "source": [
    "# Verificação de valores nulos em cada coluna\n",
    "print(\"\\nValores nulos por coluna:\")\n",
    "df.select([F.count(F.when(F.col(c).isNull(), c)).alias(c) for c in df.columns]).show()"
   ]
  },
  {
   "cell_type": "code",
   "execution_count": 49,
   "metadata": {},
   "outputs": [
    {
     "name": "stdout",
     "output_type": "stream",
     "text": [
      "Quantidade de registros: 472424\n",
      "Variáveis disponíveis: 16\n"
     ]
    }
   ],
   "source": [
    "# Quantidade de registros e variáveis disponíveis\n",
    "print(f\"Quantidade de registros: {df.count()}\")\n",
    "print(f\"Variáveis disponíveis: {len(df.columns)}\")"
   ]
  },
  {
   "cell_type": "code",
   "execution_count": 50,
   "metadata": {},
   "outputs": [],
   "source": [
    "# Seleção e transformação de colunas\n",
    "df_precos = (\n",
    "    df\n",
    "    .select('Estado - Sigla', 'Produto', 'Valor de Venda', 'Unidade de Medida')\n",
    "    .withColumn(\n",
    "        \"Valor de Venda\",\n",
    "        F.regexp_replace(F.col(\"Valor de Venda\"), \",\", \".\")\n",
    "        .cast(\"float\")\n",
    "    )\n",
    ")"
   ]
  },
  {
   "cell_type": "code",
   "execution_count": 51,
   "metadata": {},
   "outputs": [],
   "source": [
    "# Análise estatística dos preços por Estado, Produto e Unidade de Medida\n",
    "df_precos_analise = (\n",
    "    df_precos\n",
    "    .groupBy(\n",
    "        F.col('Estado - Sigla'),\n",
    "        F.col('Produto'),\n",
    "        F.col('Unidade de Medida')\n",
    "    )\n",
    "    .agg(\n",
    "        F.min(F.col(\"Valor de Venda\")).alias('menor_valor'),\n",
    "        F.max(F.col(\"Valor de Venda\")).alias('maior_valor')\n",
    "    )\n",
    "    .withColumn(\n",
    "        \"diferenca\",\n",
    "        F.col('maior_valor') - F.col('menor_valor')\n",
    "    )\n",
    "    .orderBy('diferenca', ascending=False)\n",
    ")"
   ]
  },
  {
   "cell_type": "code",
   "execution_count": 52,
   "metadata": {},
   "outputs": [
    {
     "name": "stdout",
     "output_type": "stream",
     "text": [
      "+--------------+------------------+-----------------+-----------+-----------+---------+\n",
      "|Estado - Sigla|           Produto|Unidade de Medida|menor_valor|maior_valor|diferenca|\n",
      "+--------------+------------------+-----------------+-----------+-----------+---------+\n",
      "|            RS|GASOLINA ADITIVADA|       R$ / litro|       4.89|       9.79|      4.9|\n",
      "|            SP|        DIESEL S10|       R$ / litro|       4.27|        9.0|     4.73|\n",
      "|            RJ|        DIESEL S10|       R$ / litro|       4.48|       8.89|4.4100003|\n",
      "|            AM|        DIESEL S10|       R$ / litro|       4.79|       8.89|4.1000004|\n",
      "|            BA|GASOLINA ADITIVADA|       R$ / litro|       4.89|       8.94|4.0499997|\n",
      "|            SP|GASOLINA ADITIVADA|       R$ / litro|       4.69|       8.69|3.9999995|\n",
      "|            PE|        DIESEL S10|       R$ / litro|       4.34|       8.19|3.8499994|\n",
      "|            PR|GASOLINA ADITIVADA|       R$ / litro|       4.79|       8.49|3.6999998|\n",
      "|            SP|            ETANOL|       R$ / litro|       2.69|       6.29|      3.6|\n",
      "|            RO|            DIESEL|       R$ / litro|       4.39|       7.96|3.5700002|\n",
      "+--------------+------------------+-----------------+-----------+-----------+---------+\n",
      "only showing top 10 rows\n",
      "\n"
     ]
    }
   ],
   "source": [
    "# Exibição dos 10 primeiros registros da análise de preços\n",
    "df_precos_analise.show(10)"
   ]
  },
  {
   "cell_type": "code",
   "execution_count": 53,
   "metadata": {},
   "outputs": [],
   "source": [
    "# Análise de Preços por Estado\n",
    "df_precos_analise = (\n",
    "    df_precos\n",
    "    .groupBy('Estado - Sigla', 'Produto', 'Unidade de Medida')\n",
    "    .agg(\n",
    "        F.min(F.col(\"Valor de Venda\")).alias('menor_valor'),\n",
    "        F.max(F.col(\"Valor de Venda\")).alias('maior_valor'),\n",
    "        F.mean(F.col(\"Valor de Venda\")).alias('media_valor'),\n",
    "        F.stddev(F.col(\"Valor de Venda\")).alias('desvio_padrao_valor'),\n",
    "        F.count(F.col(\"Valor de Venda\")).alias('contagem')\n",
    "    )\n",
    "    .withColumn(\"diferenca\", F.col('maior_valor') - F.col('menor_valor'))\n",
    "    .orderBy('diferenca', ascending=False)\n",
    ")"
   ]
  },
  {
   "cell_type": "code",
   "execution_count": 54,
   "metadata": {},
   "outputs": [
    {
     "name": "stdout",
     "output_type": "stream",
     "text": [
      "+--------------+------------------+-----------------+-----------+-----------+-----------------+-------------------+--------+---------+\n",
      "|Estado - Sigla|           Produto|Unidade de Medida|menor_valor|maior_valor|      media_valor|desvio_padrao_valor|contagem|diferenca|\n",
      "+--------------+------------------+-----------------+-----------+-----------+-----------------+-------------------+--------+---------+\n",
      "|            RS|GASOLINA ADITIVADA|       R$ / litro|       4.89|       9.79|5.853811392165644|0.31784309071244626|    9036|      4.9|\n",
      "|            SP|        DIESEL S10|       R$ / litro|       4.27|        9.0| 5.87926028785255| 0.6079625454624801|   22267|     4.73|\n",
      "|            RJ|        DIESEL S10|       R$ / litro|       4.48|       8.89|5.862711620882171| 0.5228997434652143|    5362|4.4100003|\n",
      "|            AM|        DIESEL S10|       R$ / litro|       4.79|       8.89|6.334521780078043| 0.7730660228625731|    1192|4.1000004|\n",
      "|            BA|GASOLINA ADITIVADA|       R$ / litro|       4.89|       8.94|6.097966140748554|0.32918837099381526|    5143|4.0499997|\n",
      "|            SP|GASOLINA ADITIVADA|       R$ / litro|       4.69|       8.69|5.784889670028391|0.44410581158012474|   26294|3.9999995|\n",
      "|            PE|        DIESEL S10|       R$ / litro|       4.34|       8.19|5.669677369568937| 0.5829255439863109|    3720|3.8499994|\n",
      "|            PR|GASOLINA ADITIVADA|       R$ / litro|       4.79|       8.49|5.942244592731572|0.33753817795827185|    5903|3.6999998|\n",
      "|            SP|            ETANOL|       R$ / litro|       2.69|       6.29| 3.47578189595414|0.32682497386891474|   32204|      3.6|\n",
      "|            RO|            DIESEL|       R$ / litro|       4.39|       7.96|6.191004240157756| 0.6256098967383806|    1175|3.5700002|\n",
      "+--------------+------------------+-----------------+-----------+-----------+-----------------+-------------------+--------+---------+\n",
      "only showing top 10 rows\n",
      "\n"
     ]
    }
   ],
   "source": [
    "# Exibe as primeiras linhas do dataframe resultante\n",
    "df_precos_analise.show(10)"
   ]
  },
  {
   "cell_type": "code",
   "execution_count": 55,
   "metadata": {},
   "outputs": [],
   "source": [
    "# Identificação de Outliers (primeiro calculando a média e desvio padrão)\n",
    "df_outliers_stats = (\n",
    "    df_precos\n",
    "    .groupBy('Produto')\n",
    "    .agg(\n",
    "        F.mean(F.col(\"Valor de Venda\")).alias('media_valor'),\n",
    "        F.stddev(F.col(\"Valor de Venda\")).alias('desvio_padrao_valor')\n",
    "    )\n",
    ")"
   ]
  },
  {
   "cell_type": "code",
   "execution_count": 56,
   "metadata": {},
   "outputs": [],
   "source": [
    "# Juntar as estatísticas de volta ao dataframe original\n",
    "df_precos = df_precos.join(df_outliers_stats, on=\"Produto\", how=\"left\")"
   ]
  },
  {
   "cell_type": "code",
   "execution_count": null,
   "metadata": {},
   "outputs": [],
   "source": [
    "# Identificação de Outliers\n",
    "df_outliers = (\n",
    "    df_precos\n",
    "    .withColumn(\n",
    "        \"outlier\",\n",
    "        F.when(\n",
    "            (F.col(\"Valor de Venda\") > F.col(\"media_valor\") + 3 * F.col(\"desvio_padrao_valor\")) |\n",
    "            (F.col(\"Valor de Venda\") < F.col(\"media_valor\") - 3 * F.col(\"desvio_padrao_valor\")),\n",
    "            1\n",
    "        ).otherwise(0)\n",
    "    )\n",
    ")"
   ]
  },
  {
   "cell_type": "code",
   "execution_count": 57,
   "metadata": {},
   "outputs": [
    {
     "name": "stdout",
     "output_type": "stream",
     "text": [
      "+------------------+--------------+--------------+-----------------+------------------+-------------------+-------+\n",
      "|           Produto|Estado - Sigla|Valor de Venda|Unidade de Medida|       media_valor|desvio_padrao_valor|outlier|\n",
      "+------------------+--------------+--------------+-----------------+------------------+-------------------+-------+\n",
      "|        DIESEL S10|            SP|          4.88|       R$ / litro| 5.897939561361159| 0.6014171589611345|      0|\n",
      "|        DIESEL S10|            AC|          6.85|       R$ / litro| 5.897939561361159| 0.6014171589611345|      0|\n",
      "|        DIESEL S10|            AC|          6.84|       R$ / litro| 5.897939561361159| 0.6014171589611345|      0|\n",
      "|        DIESEL S10|            AC|          5.99|       R$ / litro| 5.897939561361159| 0.6014171589611345|      0|\n",
      "|        DIESEL S10|            AC|          5.85|       R$ / litro| 5.897939561361159| 0.6014171589611345|      0|\n",
      "|            DIESEL|            AC|          6.82|       R$ / litro| 5.793436132879628|  0.584793811407621|      0|\n",
      "|            DIESEL|            AC|          5.96|       R$ / litro| 5.793436132879628|  0.584793811407621|      0|\n",
      "|            DIESEL|            AC|          5.75|       R$ / litro| 5.793436132879628|  0.584793811407621|      0|\n",
      "|GASOLINA ADITIVADA|            AC|          6.99|       R$ / litro| 5.886235341321698| 0.3987121966125179|      0|\n",
      "|GASOLINA ADITIVADA|            AC|          6.29|       R$ / litro| 5.886235341321698| 0.3987121966125179|      0|\n",
      "|GASOLINA ADITIVADA|            AC|          6.29|       R$ / litro| 5.886235341321698| 0.3987121966125179|      0|\n",
      "|GASOLINA ADITIVADA|            AC|          6.26|       R$ / litro| 5.886235341321698| 0.3987121966125179|      0|\n",
      "|            ETANOL|            SP|          3.27|       R$ / litro|3.9179658597716576| 0.5656031193659519|      0|\n",
      "|            ETANOL|            AC|          5.49|       R$ / litro|3.9179658597716576| 0.5656031193659519|      0|\n",
      "|            ETANOL|            AC|          4.59|       R$ / litro|3.9179658597716576| 0.5656031193659519|      0|\n",
      "|          GASOLINA|            SP|          4.87|       R$ / litro| 5.705959914049355| 0.4027339803956211|      0|\n",
      "|          GASOLINA|            AC|          6.95|       R$ / litro| 5.705959914049355| 0.4027339803956211|      1|\n",
      "|          GASOLINA|            AC|          6.93|       R$ / litro| 5.705959914049355| 0.4027339803956211|      1|\n",
      "|          GASOLINA|            AC|          6.29|       R$ / litro| 5.705959914049355| 0.4027339803956211|      0|\n",
      "|          GASOLINA|            AC|          6.22|       R$ / litro| 5.705959914049355| 0.4027339803956211|      0|\n",
      "+------------------+--------------+--------------+-----------------+------------------+-------------------+-------+\n",
      "only showing top 20 rows\n",
      "\n"
     ]
    }
   ],
   "source": [
    "# Exibe os outliers identificados\n",
    "df_outliers.show()"
   ]
  },
  {
   "cell_type": "code",
   "execution_count": 58,
   "metadata": {},
   "outputs": [],
   "source": [
    "# Contagem das bandeiras em ordem crescente\n",
    "df_bandeiras = (\n",
    "    df\n",
    "    .groupBy('Bandeira')\n",
    "    .count()\n",
    "    .orderBy('count', ascending=True)\n",
    ")"
   ]
  },
  {
   "cell_type": "code",
   "execution_count": 59,
   "metadata": {},
   "outputs": [
    {
     "name": "stdout",
     "output_type": "stream",
     "text": [
      "+-------------------+-----+\n",
      "|           Bandeira|count|\n",
      "+-------------------+-----+\n",
      "|        AMERICANOIL|   18|\n",
      "|            REJAILE|   20|\n",
      "|        PETROBRASIL|   23|\n",
      "|          ROYAL FIC|   30|\n",
      "|            ESTRADA|   40|\n",
      "|             AIR BP|   45|\n",
      "|  RZD DISTRIBUIDORA|   48|\n",
      "|                UNI|   77|\n",
      "|          SIMARELLI|   79|\n",
      "|        WALENDOWSKY|   80|\n",
      "|           PELIKANO|   95|\n",
      "|  SUL COMBUSTÃVEIS|   95|\n",
      "|           ON PETRO|   99|\n",
      "|            DIBRAPE|  108|\n",
      "|    FEDERAL ENERGIA|  127|\n",
      "|             TEMAPE|  143|\n",
      "|SETTA DISTRIBUIDORA|  178|\n",
      "|  TDC DISTRIBUIDORA|  216|\n",
      "|             D`MAIS|  240|\n",
      "|              IDAZA|  246|\n",
      "|         RIO BRANCO|  311|\n",
      "|MASUT DISTRIBUIDORA|  323|\n",
      "|              LARCO|  329|\n",
      "+-------------------+-----+\n",
      "only showing top 23 rows\n",
      "\n"
     ]
    }
   ],
   "source": [
    "# Exibe as bandeiras em ordem crescente de contagem\n",
    "df_bandeiras.show(23)"
   ]
  },
  {
   "cell_type": "code",
   "execution_count": 60,
   "metadata": {},
   "outputs": [],
   "source": [
    "# Estatísticas de preços para cada bandeira\n",
    "df_bandeira_precos = (\n",
    "    df\n",
    "    .withColumn(\n",
    "        \"Valor de Venda\",\n",
    "        F.regexp_replace(F.col(\"Valor de Venda\"), \",\", \".\").cast(\"float\")\n",
    "    )\n",
    "    .groupBy('Bandeira')\n",
    "    .agg(\n",
    "        F.mean(F.col(\"Valor de Venda\")).alias('preco_medio'),\n",
    "        F.min(F.col(\"Valor de Venda\")).alias('menor_preco'),\n",
    "        F.max(F.col(\"Valor de Venda\")).alias('maior_preco')\n",
    "    )\n",
    "    .orderBy('preco_medio')\n",
    ")"
   ]
  },
  {
   "cell_type": "code",
   "execution_count": 61,
   "metadata": {},
   "outputs": [
    {
     "name": "stdout",
     "output_type": "stream",
     "text": [
      "+-------------------+------------------+-----------+-----------+\n",
      "|           Bandeira|       preco_medio|menor_preco|maior_preco|\n",
      "+-------------------+------------------+-----------+-----------+\n",
      "|        PETROBRASIL| 4.268695665442425|       2.99|       5.19|\n",
      "|    FEDERAL ENERGIA| 4.954015713038407|       3.39|       6.19|\n",
      "|             D`MAIS| 5.028666603565216|       2.99|       5.99|\n",
      "|          SIMARELLI|  5.04645566698871|       3.32|       6.75|\n",
      "|      TOTALENERGIES| 5.102309747234635|       2.99|       6.49|\n",
      "|           CIAPETRO| 5.176007434058545|       2.99|       6.59|\n",
      "|  TDC DISTRIBUIDORA| 5.206666647284119|       3.53|       6.19|\n",
      "|          ROYAL FIC|  5.21233328183492|       3.39|       6.39|\n",
      "|              STANG| 5.216778752445119|       3.39|       6.31|\n",
      "|             BRANCA| 5.242196665507463|       2.69|       8.89|\n",
      "|      VIBRA ENERGIA| 5.270136823919084|       3.25|       8.39|\n",
      "|MASUT DISTRIBUIDORA| 5.279969014619526|       3.19|       6.59|\n",
      "|             TAURUS| 5.319486191089883|       3.08|       7.55|\n",
      "|SETTA DISTRIBUIDORA| 5.328202207436722|       3.54|       6.29|\n",
      "|             DISLUB| 5.340486182489784|       3.39|       6.99|\n",
      "|             RAIZEN| 5.341535805257504|       2.79|       7.99|\n",
      "|                UNI| 5.344155834866808|       3.74|       6.19|\n",
      "|         RIO BRANCO| 5.352733083859901|       3.15|       6.69|\n",
      "|             ALESAT|  5.36014957637343|       2.79|       7.44|\n",
      "|            ESTRADA|5.4077500104904175|       3.69|       6.49|\n",
      "|              LARCO| 5.415288772988827|        3.5|       6.67|\n",
      "|           PELIKANO| 5.455368375778198|       3.89|       6.15|\n",
      "|           IPIRANGA|  5.45796010873492|       2.79|        9.0|\n",
      "+-------------------+------------------+-----------+-----------+\n",
      "only showing top 23 rows\n",
      "\n"
     ]
    }
   ],
   "source": [
    "# Exibe as estatísticas de preços por bandeira\n",
    "df_bandeira_precos.show(23)"
   ]
  },
  {
   "cell_type": "code",
   "execution_count": 62,
   "metadata": {},
   "outputs": [
    {
     "name": "stdout",
     "output_type": "stream",
     "text": [
      "Região com maior volume de vendas: N\n"
     ]
    }
   ],
   "source": [
    "# Região com Maior Volume de Vendas\n",
    "df_regiao_vendas = df.groupBy(\"Regiao - Sigla\") \\\n",
    "                   .agg(F.sum(\"Valor de Venda\").alias(\"Total_Vendas\")) \\\n",
    "                   .orderBy(\"Total_Vendas\", ascending=False) \\\n",
    "                   .first()\n",
    "\n",
    "print(f\"Região com maior volume de vendas: {df_regiao_vendas['Regiao - Sigla']}\")"
   ]
  },
  {
   "cell_type": "code",
   "execution_count": 63,
   "metadata": {},
   "outputs": [
    {
     "name": "stdout",
     "output_type": "stream",
     "text": [
      "+--------------+-----------------+\n",
      "|Regiao - Sigla|     Ticket_Medio|\n",
      "+--------------+-----------------+\n",
      "|             N|6.042918454935623|\n",
      "|            SE|5.763513513513513|\n",
      "|             S|5.756756756756757|\n",
      "|            NE|5.432160804020101|\n",
      "|            CO|              4.8|\n",
      "+--------------+-----------------+\n",
      "\n"
     ]
    }
   ],
   "source": [
    "# Ticket Médio por Região\n",
    "df_regiao_ticket_medio = df.groupBy(\"Regiao - Sigla\") \\\n",
    "                           .agg(F.avg(\"Valor de Venda\").alias(\"Ticket_Medio\")) \\\n",
    "                           .orderBy(\"Ticket_Medio\", ascending=False)\n",
    "\n",
    "df_regiao_ticket_medio.show(5)"
   ]
  },
  {
   "cell_type": "code",
   "execution_count": 64,
   "metadata": {},
   "outputs": [
    {
     "name": "stdout",
     "output_type": "stream",
     "text": [
      "Produto mais vendido: DIESEL\n"
     ]
    }
   ],
   "source": [
    "# Produto mais vendido\n",
    "df_produto_mais_vendido = df.groupBy(\"Produto\") \\\n",
    "                          .agg(F.sum(\"Valor de Venda\").alias(\"Total_Vendas\")) \\\n",
    "                          .orderBy(\"Total_Vendas\", ascending=False) \\\n",
    "                          .first()\n",
    "\n",
    "print(f\"Produto mais vendido: {df_produto_mais_vendido['Produto']}\")"
   ]
  },
  {
   "cell_type": "code",
   "execution_count": 65,
   "metadata": {},
   "outputs": [
    {
     "name": "stdout",
     "output_type": "stream",
     "text": [
      "+------------------+-----------------+\n",
      "|           Produto|     Ticket_Medio|\n",
      "+------------------+-----------------+\n",
      "|        DIESEL S10|6.283687943262412|\n",
      "|            DIESEL|              6.2|\n",
      "|GASOLINA ADITIVADA|5.880281690140845|\n",
      "|          GASOLINA|5.858974358974359|\n",
      "|            ETANOL|4.212765957446808|\n",
      "|               GNV|             NULL|\n",
      "+------------------+-----------------+\n",
      "\n"
     ]
    }
   ],
   "source": [
    "# Ticket Médio por Produto\n",
    "df_produto_ticket_medio = df.groupBy(\"Produto\") \\\n",
    "                           .agg(F.avg(\"Valor de Venda\").alias(\"Ticket_Medio\")) \\\n",
    "                           .orderBy(\"Ticket_Medio\", ascending=False)\n",
    "\n",
    "df_produto_ticket_medio.show(6)"
   ]
  },
  {
   "cell_type": "code",
   "execution_count": 66,
   "metadata": {},
   "outputs": [],
   "source": [
    "# Filtrar valores nulos na coluna 'Valor de Venda'\n",
    "df_precos_filtrado = df_precos.filter(df_precos['Valor de Venda'].isNotNull())"
   ]
  },
  {
   "cell_type": "code",
   "execution_count": 67,
   "metadata": {},
   "outputs": [],
   "source": [
    "# Análise de preços por estado e produto, removendo dados nulos de media_valor e desvio_padrao_valor\n",
    "df_precos_estado_produto = (\n",
    "    df_precos_filtrado\n",
    "    .groupBy('Estado - Sigla', 'Produto')\n",
    "    .agg(\n",
    "        F.mean(F.col(\"Valor de Venda\")).alias('media_valor'),\n",
    "        F.stddev(F.col(\"Valor de Venda\")).alias('desvio_padrao_valor')\n",
    "    )\n",
    "    .filter((F.col(\"media_valor\").isNotNull()) & (F.col(\"desvio_padrao_valor\").isNotNull()))  # Filtra valores nulos\n",
    "    .orderBy('Estado - Sigla', 'Produto')\n",
    ")"
   ]
  },
  {
   "cell_type": "code",
   "execution_count": 68,
   "metadata": {},
   "outputs": [
    {
     "name": "stdout",
     "output_type": "stream",
     "text": [
      "+--------------+------------------+------------------+-------------------+\n",
      "|Estado - Sigla|           Produto|       media_valor|desvio_padrao_valor|\n",
      "+--------------+------------------+------------------+-------------------+\n",
      "|            AC|            DIESEL| 6.908141144023222| 0.6137181922203635|\n",
      "|            AC|        DIESEL S10| 6.993102643474843| 0.6160033272184371|\n",
      "|            AC|            ETANOL| 4.826099615374047|0.35412526689469315|\n",
      "|            AC|          GASOLINA|  6.80286260506579| 0.4157144992728159|\n",
      "|            AC|GASOLINA ADITIVADA| 6.743036654607164| 0.4062977990776531|\n",
      "|            AL|            DIESEL| 5.952175704338893| 0.6496441001040734|\n",
      "|            AL|        DIESEL S10|  5.95028788966858| 0.6187064842524237|\n",
      "|            AL|            ETANOL|4.5055818808706185| 0.4408193417309498|\n",
      "|            AL|          GASOLINA|  5.88424327181286|  0.355004429800144|\n",
      "|            AL|GASOLINA ADITIVADA|5.9905605669694175| 0.3309449829136531|\n",
      "|            AL|               GNV| 4.772391335860543|0.21310330371748107|\n",
      "|            AM|            DIESEL| 5.981099243705154| 0.5466863731129287|\n",
      "|            AM|        DIESEL S10| 6.334521780078043| 0.7730660228625731|\n",
      "|            AM|            ETANOL| 4.622494705704484|0.13250144174835213|\n",
      "|            AM|          GASOLINA| 6.599050898764544|0.44893696272121075|\n",
      "|            AM|GASOLINA ADITIVADA| 6.543982081753867|0.36774835608125345|\n",
      "|            AM|               GNV| 4.489999771118164|                0.0|\n",
      "|            AP|            DIESEL| 5.926344498866746| 0.6613747287576938|\n",
      "|            AP|        DIESEL S10| 6.317328987370097| 0.7007838848991264|\n",
      "|            AP|            ETANOL| 5.416969660556678|0.16386889309831146|\n",
      "+--------------+------------------+------------------+-------------------+\n",
      "only showing top 20 rows\n",
      "\n"
     ]
    }
   ],
   "source": [
    "# Exibe as linhas do dataframe resultante\n",
    "df_precos_estado_produto.show()"
   ]
  },
  {
   "cell_type": "code",
   "execution_count": 69,
   "metadata": {},
   "outputs": [],
   "source": [
    "# Filtra os valores nulos na coluna 'Valor de Venda' e converte para o formato adequado\n",
    "df_precos_filtrado = df.filter(df['Valor de Venda'].isNotNull()) \\\n",
    "    .withColumn('Valor de Venda', F.regexp_replace(F.col('Valor de Venda'), ',', '.').cast('float'))"
   ]
  },
  {
   "cell_type": "code",
   "execution_count": 70,
   "metadata": {},
   "outputs": [],
   "source": [
    "# Análise estatística por estado e produto, com contagem dos registros válidos\n",
    "df_precos_estado_produto = df_precos_filtrado.groupBy('Estado - Sigla', 'Produto') \\\n",
    "    .agg(\n",
    "        F.mean('Valor de Venda').alias('media_valor'),\n",
    "        F.stddev('Valor de Venda').alias('desvio_padrao_valor'),\n",
    "        F.count('Valor de Venda').alias('contagem')\n",
    "    ) \\\n",
    "    .filter((F.col('media_valor').isNotNull()) & (F.col('desvio_padrao_valor').isNotNull())) \\\n",
    "    .orderBy('Estado - Sigla', 'Produto')"
   ]
  },
  {
   "cell_type": "code",
   "execution_count": 71,
   "metadata": {},
   "outputs": [
    {
     "name": "stdout",
     "output_type": "stream",
     "text": [
      "+--------------+------------------+------------------+-------------------+--------+\n",
      "|Estado - Sigla|           Produto|       media_valor|desvio_padrao_valor|contagem|\n",
      "+--------------+------------------+------------------+-------------------+--------+\n",
      "|            AC|            DIESEL| 6.908141144023222| 0.6137181922203635|     425|\n",
      "|            AC|        DIESEL S10| 6.993102643474843| 0.6160033272184371|     477|\n",
      "|            AC|            ETANOL| 4.826099615374047|0.35412526689469315|     241|\n",
      "|            AC|          GASOLINA|  6.80286260506579| 0.4157144992728159|     524|\n",
      "|            AC|GASOLINA ADITIVADA| 6.743036654607164| 0.4062977990776531|     382|\n",
      "|            AL|            DIESEL| 5.952175704338893| 0.6496441001040734|     717|\n",
      "|            AL|        DIESEL S10|  5.95028788966858| 0.6187064842524237|     903|\n",
      "|            AL|            ETANOL|4.5055818808706185| 0.4408193417309498|    1349|\n",
      "|            AL|          GASOLINA|  5.88424327181286|  0.355004429800144|    1414|\n",
      "|            AL|GASOLINA ADITIVADA|5.9905605669694175| 0.3309449829136531|    1106|\n",
      "|            AL|               GNV| 4.772391335860543|0.21310330371748107|     230|\n",
      "|            AM|            DIESEL| 5.981099243705154| 0.5466863731129287|     564|\n",
      "|            AM|        DIESEL S10| 6.334521780078043| 0.7730660228625731|    1192|\n",
      "|            AM|            ETANOL| 4.622494705704484|0.13250144174835213|     938|\n",
      "|            AM|          GASOLINA| 6.599050898764544|0.44893696272121075|    1570|\n",
      "|            AM|GASOLINA ADITIVADA| 6.543982081753867|0.36774835608125345|    1120|\n",
      "|            AM|               GNV| 4.489999771118164|                0.0|      26|\n",
      "|            AP|            DIESEL| 5.926344498866746| 0.6613747287576938|     238|\n",
      "|            AP|        DIESEL S10| 6.317328987370097| 0.7007838848991264|     307|\n",
      "|            AP|            ETANOL| 5.416969660556678|0.16386889309831146|      33|\n",
      "+--------------+------------------+------------------+-------------------+--------+\n",
      "only showing top 20 rows\n",
      "\n"
     ]
    }
   ],
   "source": [
    "# Exibe os registros do dataframe resultante\n",
    "df_precos_estado_produto.show()"
   ]
  },
  {
   "cell_type": "markdown",
   "metadata": {},
   "source": [
    "### Armazenar Dados no MongoDB"
   ]
  },
  {
   "cell_type": "code",
   "execution_count": 3,
   "metadata": {},
   "outputs": [
    {
     "ename": "ValueError",
     "evalue": "MONGO_URI não foi configurado corretamente.",
     "output_type": "error",
     "traceback": [
      "\u001b[1;31m---------------------------------------------------------------------------\u001b[0m",
      "\u001b[1;31mValueError\u001b[0m                                Traceback (most recent call last)",
      "Cell \u001b[1;32mIn[3], line 4\u001b[0m\n\u001b[0;32m      2\u001b[0m mongo_uri \u001b[38;5;241m=\u001b[39m os\u001b[38;5;241m.\u001b[39mgetenv(\u001b[38;5;124m\"\u001b[39m\u001b[38;5;124mMONGO_URI\u001b[39m\u001b[38;5;124m\"\u001b[39m)\n\u001b[0;32m      3\u001b[0m \u001b[38;5;28;01mif\u001b[39;00m \u001b[38;5;129;01mnot\u001b[39;00m mongo_uri:\n\u001b[1;32m----> 4\u001b[0m     \u001b[38;5;28;01mraise\u001b[39;00m \u001b[38;5;167;01mValueError\u001b[39;00m(\u001b[38;5;124m\"\u001b[39m\u001b[38;5;124mMONGO_URI não foi configurado corretamente.\u001b[39m\u001b[38;5;124m\"\u001b[39m)\n\u001b[0;32m      6\u001b[0m \u001b[38;5;66;03m# Conectar ao MongoDB\u001b[39;00m\n\u001b[0;32m      7\u001b[0m client \u001b[38;5;241m=\u001b[39m MongoClient(mongo_uri)\n",
      "\u001b[1;31mValueError\u001b[0m: MONGO_URI não foi configurado corretamente."
     ]
    }
   ],
   "source": [
    "# Armazenar Dados no MongoDB\n",
    "mongo_uri = os.getenv(\"MONGO_URI\")\n",
    "if not mongo_uri:\n",
    "    raise ValueError(\"MONGO_URI não foi configurado corretamente.\")\n",
    "\n",
    "# Conectar ao MongoDB\n",
    "client = MongoClient(mongo_uri)\n",
    "db = client.get_database('sparkGLP')\n",
    "collection = db.get_collection('spark_collection')\n",
    "\n",
    "# Salvar dados no MongoDB\n",
    "try:\n",
    "    df.write.format(\"com.mongodb.spark.sql.DefaultSource\") \\\n",
    "        .option(\"uri\", mongo_uri) \\\n",
    "        .mode(\"append\") \\\n",
    "        .save()\n",
    "    print(\"Dados salvos com sucesso no MongoDB.\")\n",
    "except Exception as e:\n",
    "    print(f\"Erro ao salvar dados no MongoDB: {e}\")"
   ]
  }
 ],
 "metadata": {
  "kernelspec": {
   "display_name": "Python 3 (ipykernel)",
   "language": "python",
   "name": "python3"
  },
  "language_info": {
   "codemirror_mode": {
    "name": "ipython",
    "version": 3
   },
   "file_extension": ".py",
   "mimetype": "text/x-python",
   "name": "python",
   "nbconvert_exporter": "python",
   "pygments_lexer": "ipython3",
   "version": "3.12.2"
  }
 },
 "nbformat": 4,
 "nbformat_minor": 4
}
